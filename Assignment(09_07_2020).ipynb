{
  "nbformat": 4,
  "nbformat_minor": 0,
  "metadata": {
    "colab": {
      "name": "Assignment(09.07.2020).ipynb",
      "provenance": []
    },
    "kernelspec": {
      "name": "python3",
      "display_name": "Python 3"
    }
  },
  "cells": [
    {
      "cell_type": "markdown",
      "metadata": {
        "id": "9YhgMW2Z9ntQ",
        "colab_type": "text"
      },
      "source": [
        "## CSE-221710309048-Pranav Sundaresan Babu"
      ]
    },
    {
      "cell_type": "code",
      "metadata": {
        "id": "gP5oEd0x9joR",
        "colab_type": "code",
        "colab": {}
      },
      "source": [
        "import tensorflow as tf\n",
        "import tensorflow.keras as keras\n",
        "import numpy as np\n",
        "import matplotlib.pyplot as plt\n",
        "%matplotlib inline"
      ],
      "execution_count": 1,
      "outputs": []
    },
    {
      "cell_type": "code",
      "metadata": {
        "id": "9dAtMR5z9xjc",
        "colab_type": "code",
        "colab": {
          "base_uri": "https://localhost:8080/",
          "height": 34
        },
        "outputId": "8c96b2d7-af75-4108-e950-07a59796a1ca"
      },
      "source": [
        "from keras.datasets.mnist import load_data"
      ],
      "execution_count": 2,
      "outputs": [
        {
          "output_type": "stream",
          "text": [
            "Using TensorFlow backend.\n"
          ],
          "name": "stderr"
        }
      ]
    },
    {
      "cell_type": "code",
      "metadata": {
        "id": "Tzwii1bK96td",
        "colab_type": "code",
        "colab": {
          "base_uri": "https://localhost:8080/",
          "height": 85
        },
        "outputId": "61f87d3a-d860-42a3-d3c1-5d283412a16f"
      },
      "source": [
        "(train_digits,train_labels),(test_digits,test_labels)=load_data()\n",
        "print(train_digits.shape)\n",
        "print(test_digits.shape)"
      ],
      "execution_count": 3,
      "outputs": [
        {
          "output_type": "stream",
          "text": [
            "Downloading data from https://s3.amazonaws.com/img-datasets/mnist.npz\n",
            "11493376/11490434 [==============================] - 0s 0us/step\n",
            "(60000, 28, 28)\n",
            "(10000, 28, 28)\n"
          ],
          "name": "stdout"
        }
      ]
    },
    {
      "cell_type": "code",
      "metadata": {
        "id": "Br7Z6iaB99UC",
        "colab_type": "code",
        "colab": {
          "base_uri": "https://localhost:8080/",
          "height": 221
        },
        "outputId": "2dc9c69d-6728-4ada-81a7-496c2154aa92"
      },
      "source": [
        "import pandas as pd\n",
        "pd.Series(train_labels).value_counts"
      ],
      "execution_count": 4,
      "outputs": [
        {
          "output_type": "execute_result",
          "data": {
            "text/plain": [
              "<bound method IndexOpsMixin.value_counts of 0        5\n",
              "1        0\n",
              "2        4\n",
              "3        1\n",
              "4        9\n",
              "        ..\n",
              "59995    8\n",
              "59996    3\n",
              "59997    5\n",
              "59998    6\n",
              "59999    8\n",
              "Length: 60000, dtype: uint8>"
            ]
          },
          "metadata": {
            "tags": []
          },
          "execution_count": 4
        }
      ]
    },
    {
      "cell_type": "code",
      "metadata": {
        "id": "2LGKkd6Z9_aF",
        "colab_type": "code",
        "colab": {
          "base_uri": "https://localhost:8080/",
          "height": 221
        },
        "outputId": "ff4ee6e8-3599-467a-ca29-224f47417dc2"
      },
      "source": [
        "pd.Series(test_labels).value_counts"
      ],
      "execution_count": 5,
      "outputs": [
        {
          "output_type": "execute_result",
          "data": {
            "text/plain": [
              "<bound method IndexOpsMixin.value_counts of 0       7\n",
              "1       2\n",
              "2       1\n",
              "3       0\n",
              "4       4\n",
              "       ..\n",
              "9995    2\n",
              "9996    3\n",
              "9997    4\n",
              "9998    5\n",
              "9999    6\n",
              "Length: 10000, dtype: uint8>"
            ]
          },
          "metadata": {
            "tags": []
          },
          "execution_count": 5
        }
      ]
    },
    {
      "cell_type": "code",
      "metadata": {
        "id": "MsAjLaxd-BtL",
        "colab_type": "code",
        "colab": {
          "base_uri": "https://localhost:8080/",
          "height": 282
        },
        "outputId": "ab039d7e-9e37-498d-88d2-a8853dc368a4"
      },
      "source": [
        "plt.imshow(train_digits[0])"
      ],
      "execution_count": 6,
      "outputs": [
        {
          "output_type": "execute_result",
          "data": {
            "text/plain": [
              "<matplotlib.image.AxesImage at 0x7f3d0de70198>"
            ]
          },
          "metadata": {
            "tags": []
          },
          "execution_count": 6
        },
        {
          "output_type": "display_data",
          "data": {
            "image/png": "[encoded data removed]",
            "text/plain": [
              "<Figure size 432x288 with 1 Axes>"
            ]
          },
          "metadata": {
            "tags": [],
            "needs_background": "light"
          }
        }
      ]
    },
    {
      "cell_type": "code",
      "metadata": {
        "id": "GBANbUi0-DYs",
        "colab_type": "code",
        "colab": {
          "base_uri": "https://localhost:8080/",
          "height": 298
        },
        "outputId": "1b453c49-482b-4203-d8c1-7fb69a01e2ce"
      },
      "source": [
        "plt.title(\"Digit:\"+str(train_labels[0]))\n",
        "plt.imshow(train_digits[0],cmap=\"gray\")"
      ],
      "execution_count": 7,
      "outputs": [
        {
          "output_type": "execute_result",
          "data": {
            "text/plain": [
              "<matplotlib.image.AxesImage at 0x7f3d0d9261d0>"
            ]
          },
          "metadata": {
            "tags": []
          },
          "execution_count": 7
        },
        {
          "output_type": "display_data",
          "data": {
            "image/png": "[encoded data removed]",
            "text/plain": [
              "<Figure size 432x288 with 1 Axes>"
            ]
          },
          "metadata": {
            "tags": [],
            "needs_background": "light"
          }
        }
      ]
    },
    {
      "cell_type": "code",
      "metadata": {
        "id": "Jq5GCgw0-FTW",
        "colab_type": "code",
        "colab": {
          "base_uri": "https://localhost:8080/",
          "height": 265
        },
        "outputId": "3bc648c2-574a-48c9-83c5-ff025382d1a7"
      },
      "source": [
        "plt.hist(train_digits[0])\n",
        "plt.show()"
      ],
      "execution_count": 8,
      "outputs": [
        {
          "output_type": "display_data",
          "data": {
            "image/png": "[encoded data removed]",
            "text/plain": [
              "<Figure size 432x288 with 1 Axes>"
            ]
          },
          "metadata": {
            "tags": [],
            "needs_background": "light"
          }
        }
      ]
    },
    {
      "cell_type": "code",
      "metadata": {
        "id": "zYgM-OBr-G6A",
        "colab_type": "code",
        "colab": {
          "base_uri": "https://localhost:8080/",
          "height": 51
        },
        "outputId": "e0c9dd03-0dbe-4c57-b9fc-0399be1540a2"
      },
      "source": [
        "samp=np.random.randint(train_digits.shape[0],size=16)\n",
        "samp"
      ],
      "execution_count": 9,
      "outputs": [
        {
          "output_type": "execute_result",
          "data": {
            "text/plain": [
              "array([ 9038, 13080, 42693, 53534, 25303, 12433, 48992, 55453, 30801,\n",
              "       58092, 40715,   109, 10577, 11371, 47860, 11759])"
            ]
          },
          "metadata": {
            "tags": []
          },
          "execution_count": 9
        }
      ]
    },
    {
      "cell_type": "code",
      "metadata": {
        "id": "wfoa6pVe-Ior",
        "colab_type": "code",
        "colab": {
          "base_uri": "https://localhost:8080/",
          "height": 917
        },
        "outputId": "f0255aba-2ae4-497f-b646-36962f61f0c7"
      },
      "source": [
        "plt.figure(figsize=(16,16))\n",
        "j=1\n",
        "for i in samp:\n",
        "  plt.subplot(4,4,j)\n",
        "  plt.imshow(train_digits[i])\n",
        "  plt.title(\"Digit:\"+str(train_labels[i]))\n",
        "  plt.axis(\"off\")\n",
        "  j=j+1"
      ],
      "execution_count": 10,
      "outputs": [
        {
          "output_type": "display_data",
          "data": {
            "image/png": "[encoded data removed]",
            "text/plain": [
              "<Figure size 1152x1152 with 16 Axes>"
            ]
          },
          "metadata": {
            "tags": [],
            "needs_background": "light"
          }
        }
      ]
    },
    {
      "cell_type": "code",
      "metadata": {
        "id": "X0aul0M6-LEV",
        "colab_type": "code",
        "colab": {}
      },
      "source": [
        "train_digits_sc=train_digits/255.0\n",
        "test_digits_sc=test_digits/255.0"
      ],
      "execution_count": 11,
      "outputs": []
    },
    {
      "cell_type": "code",
      "metadata": {
        "id": "YHLtvfv4-N6v",
        "colab_type": "code",
        "colab": {}
      },
      "source": [
        "from keras.utils import to_categorical"
      ],
      "execution_count": 12,
      "outputs": []
    },
    {
      "cell_type": "code",
      "metadata": {
        "id": "E1taVUMG-QQP",
        "colab_type": "code",
        "colab": {}
      },
      "source": [
        "train_labels_cat=to_categorical(train_labels)"
      ],
      "execution_count": 13,
      "outputs": []
    },
    {
      "cell_type": "code",
      "metadata": {
        "id": "Ho-Xf6MZ-Sgb",
        "colab_type": "code",
        "colab": {}
      },
      "source": [
        "test_labels_cat=to_categorical(test_labels)"
      ],
      "execution_count": 14,
      "outputs": []
    },
    {
      "cell_type": "code",
      "metadata": {
        "id": "tYsKCjng-UEt",
        "colab_type": "code",
        "colab": {
          "base_uri": "https://localhost:8080/",
          "height": 85
        },
        "outputId": "afd17f0a-5064-479c-e43d-52a23fa5e482"
      },
      "source": [
        "from sklearn.model_selection import train_test_split\n",
        "x_train,x_val,y_train,y_val=train_test_split(train_digits_sc,train_labels_cat,test_size=0.1,random_state=32)\n",
        "print(x_train.shape)\n",
        "print(x_val.shape)\n",
        "print(y_train.shape)\n",
        "print(y_val.shape)"
      ],
      "execution_count": 15,
      "outputs": [
        {
          "output_type": "stream",
          "text": [
            "(54000, 28, 28)\n",
            "(6000, 28, 28)\n",
            "(54000, 10)\n",
            "(6000, 10)\n"
          ],
          "name": "stdout"
        }
      ]
    },
    {
      "cell_type": "code",
      "metadata": {
        "id": "NMwTRtgf-WCh",
        "colab_type": "code",
        "colab": {
          "base_uri": "https://localhost:8080/",
          "height": 357
        },
        "outputId": "9eaedbd8-d170-4f57-ece3-673fd5156ec4"
      },
      "source": [
        "from keras.models import Sequential\n",
        "from keras.layers import Dense,Flatten\n",
        "\n",
        "model = Sequential()\n",
        "# first layer we need to mention the input shape\n",
        "\n",
        "model.add(Flatten(input_shape=(28,28)))\n",
        "## 784 pixel values as input to this Dense. 128 Neurons in the layers\n",
        "model.add(Dense(128,activation='relu'))# 784 * 128+128\n",
        "model.add(Dense(128,activation='relu'))# \n",
        "model.add(Dense(64,activation='relu'))\n",
        "model.add(Dense(256,activation='relu'))\n",
        "#Final layer\n",
        "model.add(Dense(10,activation='softmax'))\n",
        "model.summary()"
      ],
      "execution_count": 16,
      "outputs": [
        {
          "output_type": "stream",
          "text": [
            "Model: \"sequential_1\"\n",
            "_________________________________________________________________\n",
            "Layer (type)                 Output Shape              Param #   \n",
            "=================================================================\n",
            "flatten_1 (Flatten)          (None, 784)               0         \n",
            "_________________________________________________________________\n",
            "dense_1 (Dense)              (None, 128)               100480    \n",
            "_________________________________________________________________\n",
            "dense_2 (Dense)              (None, 128)               16512     \n",
            "_________________________________________________________________\n",
            "dense_3 (Dense)              (None, 64)                8256      \n",
            "_________________________________________________________________\n",
            "dense_4 (Dense)              (None, 256)               16640     \n",
            "_________________________________________________________________\n",
            "dense_5 (Dense)              (None, 10)                2570      \n",
            "=================================================================\n",
            "Total params: 144,458\n",
            "Trainable params: 144,458\n",
            "Non-trainable params: 0\n",
            "_________________________________________________________________\n"
          ],
          "name": "stdout"
        }
      ]
    },
    {
      "cell_type": "code",
      "metadata": {
        "id": "Ct8KhUO4-Yqa",
        "colab_type": "code",
        "colab": {}
      },
      "source": [
        "model.compile(optimizer='adam',loss=tf.keras.losses.CategoricalCrossentropy(),metrics=['accuracy'])"
      ],
      "execution_count": 17,
      "outputs": []
    },
    {
      "cell_type": "code",
      "metadata": {
        "id": "x8VCamy--a17",
        "colab_type": "code",
        "colab": {
          "base_uri": "https://localhost:8080/",
          "height": 204
        },
        "outputId": "5e797d4c-3e57-47c1-e06c-c2f8505b4834"
      },
      "source": [
        "history=model.fit(x=x_train,y=y_train,epochs=5,validation_data=(x_val,y_val),batch_size=32)"
      ],
      "execution_count": 18,
      "outputs": [
        {
          "output_type": "stream",
          "text": [
            "Train on 54000 samples, validate on 6000 samples\n",
            "Epoch 1/5\n",
            "54000/54000 [==============================] - 6s 109us/step - loss: 0.2497 - accuracy: 0.9242 - val_loss: 0.1376 - val_accuracy: 0.9610\n",
            "Epoch 2/5\n",
            "54000/54000 [==============================] - 6s 105us/step - loss: 0.1119 - accuracy: 0.9662 - val_loss: 0.1282 - val_accuracy: 0.9620\n",
            "Epoch 3/5\n",
            "54000/54000 [==============================] - 6s 104us/step - loss: 0.0805 - accuracy: 0.9752 - val_loss: 0.1118 - val_accuracy: 0.9705\n",
            "Epoch 4/5\n",
            "54000/54000 [==============================] - 6s 104us/step - loss: 0.0629 - accuracy: 0.9807 - val_loss: 0.1112 - val_accuracy: 0.9723\n",
            "Epoch 5/5\n",
            "54000/54000 [==============================] - 6s 106us/step - loss: 0.0532 - accuracy: 0.9838 - val_loss: 0.0988 - val_accuracy: 0.9735\n"
          ],
          "name": "stdout"
        }
      ]
    },
    {
      "cell_type": "code",
      "metadata": {
        "id": "nRbegcn5-clx",
        "colab_type": "code",
        "colab": {
          "base_uri": "https://localhost:8080/",
          "height": 51
        },
        "outputId": "e4e94c7a-8b3d-4099-a1d9-74b5d161fe18"
      },
      "source": [
        "model.evaluate(test_digits_sc,test_labels_cat)"
      ],
      "execution_count": 19,
      "outputs": [
        {
          "output_type": "stream",
          "text": [
            "10000/10000 [==============================] - 0s 27us/step\n"
          ],
          "name": "stdout"
        },
        {
          "output_type": "execute_result",
          "data": {
            "text/plain": [
              "[0.09020732537787407, 0.9740999937057495]"
            ]
          },
          "metadata": {
            "tags": []
          },
          "execution_count": 19
        }
      ]
    },
    {
      "cell_type": "code",
      "metadata": {
        "id": "lecctnAn-ldF",
        "colab_type": "code",
        "colab": {
          "base_uri": "https://localhost:8080/",
          "height": 68
        },
        "outputId": "1e9f2051-de87-4154-b710-acb4ccacff6b"
      },
      "source": [
        "print(test_digits_sc.shape)\n",
        "print(test_digits_sc[0].shape)\n",
        "print(np.expand_dims(test_digits_sc[0],axis=0).shape)"
      ],
      "execution_count": 20,
      "outputs": [
        {
          "output_type": "stream",
          "text": [
            "(10000, 28, 28)\n",
            "(28, 28)\n",
            "(1, 28, 28)\n"
          ],
          "name": "stdout"
        }
      ]
    },
    {
      "cell_type": "code",
      "metadata": {
        "id": "Omo9xRUc-pCH",
        "colab_type": "code",
        "colab": {
          "base_uri": "https://localhost:8080/",
          "height": 68
        },
        "outputId": "0c975388-55b0-4610-b1f7-d372e621708d"
      },
      "source": [
        "model.predict(np.expand_dims(test_digits_sc[0],axis=0))"
      ],
      "execution_count": 21,
      "outputs": [
        {
          "output_type": "execute_result",
          "data": {
            "text/plain": [
              "array([[4.9043390e-08, 2.5800846e-05, 3.1680636e-05, 6.9812423e-04,\n",
              "        1.4493833e-07, 6.0226364e-07, 3.3935579e-10, 9.9920899e-01,\n",
              "        1.6592344e-06, 3.2890948e-05]], dtype=float32)"
            ]
          },
          "metadata": {
            "tags": []
          },
          "execution_count": 21
        }
      ]
    },
    {
      "cell_type": "code",
      "metadata": {
        "id": "z1sF77wu-qww",
        "colab_type": "code",
        "colab": {
          "base_uri": "https://localhost:8080/",
          "height": 527
        },
        "outputId": "cd685a80-1fb7-448b-df78-5742a5786bc7"
      },
      "source": [
        "model.predict(test_digits_sc[:10])"
      ],
      "execution_count": 22,
      "outputs": [
        {
          "output_type": "execute_result",
          "data": {
            "text/plain": [
              "array([[4.9043390e-08, 2.5800820e-05, 3.1680578e-05, 6.9812388e-04,\n",
              "        1.4493818e-07, 6.0226364e-07, 3.3935452e-10, 9.9920899e-01,\n",
              "        1.6592312e-06, 3.2890919e-05],\n",
              "       [3.1484697e-09, 5.5573960e-06, 9.9999416e-01, 2.3202180e-08,\n",
              "        4.5771686e-10, 2.5651897e-10, 7.0335723e-08, 2.9702925e-09,\n",
              "        5.9636591e-08, 4.6518670e-13],\n",
              "       [1.8852387e-07, 9.9977785e-01, 7.3138217e-06, 5.4397060e-07,\n",
              "        2.0894437e-05, 1.4819434e-06, 7.1814084e-06, 2.7940441e-05,\n",
              "        1.5412169e-04, 2.5319343e-06],\n",
              "       [9.9877924e-01, 6.0002517e-06, 1.9897183e-04, 4.8054986e-05,\n",
              "        3.0983665e-05, 7.0027229e-05, 5.6714733e-04, 4.7486092e-06,\n",
              "        2.8774413e-05, 2.6605171e-04],\n",
              "       [2.7227425e-06, 4.8576708e-06, 1.0404176e-05, 1.2008526e-07,\n",
              "        9.9588901e-01, 4.4312305e-06, 3.7252050e-06, 2.1438262e-05,\n",
              "        1.9071849e-04, 3.8725573e-03],\n",
              "       [2.4239116e-08, 9.9993050e-01, 6.1451482e-07, 6.3238055e-08,\n",
              "        6.5889567e-06, 4.7245280e-08, 3.1932882e-07, 1.3737883e-05,\n",
              "        4.7421127e-05, 7.5205662e-07],\n",
              "       [7.5857956e-06, 6.6092114e-05, 3.6335954e-05, 1.1461163e-06,\n",
              "        9.8397183e-01, 5.2163094e-05, 2.7427555e-05, 2.3039768e-04,\n",
              "        6.3760919e-03, 9.2308782e-03],\n",
              "       [9.2264483e-05, 2.3220065e-05, 8.1058519e-05, 3.2180215e-03,\n",
              "        1.8164490e-03, 1.9188644e-04, 7.7639152e-07, 2.1562031e-03,\n",
              "        5.3493265e-04, 9.9188519e-01],\n",
              "       [2.1101646e-07, 3.0409460e-08, 6.4158876e-08, 1.5974925e-05,\n",
              "        4.3627221e-08, 9.8628342e-01, 1.3080532e-02, 5.7845340e-11,\n",
              "        5.9696950e-04, 2.2791897e-05],\n",
              "       [1.8648912e-08, 6.1998385e-08, 6.4076784e-09, 1.0226096e-07,\n",
              "        1.8372906e-04, 4.5666093e-09, 9.9308105e-12, 2.5774219e-05,\n",
              "        5.9945199e-07, 9.9978977e-01]], dtype=float32)"
            ]
          },
          "metadata": {
            "tags": []
          },
          "execution_count": 22
        }
      ]
    },
    {
      "cell_type": "code",
      "metadata": {
        "id": "1nsNz9lE-sfB",
        "colab_type": "code",
        "colab": {
          "base_uri": "https://localhost:8080/",
          "height": 34
        },
        "outputId": "f0c5a7d0-7a85-4d4d-8836-6489ea126a45"
      },
      "source": [
        "model.predict_classes(np.expand_dims(test_digits_sc[0],axis=0))"
      ],
      "execution_count": 23,
      "outputs": [
        {
          "output_type": "execute_result",
          "data": {
            "text/plain": [
              "array([7])"
            ]
          },
          "metadata": {
            "tags": []
          },
          "execution_count": 23
        }
      ]
    },
    {
      "cell_type": "code",
      "metadata": {
        "id": "83E6pZfC-uth",
        "colab_type": "code",
        "colab": {
          "base_uri": "https://localhost:8080/",
          "height": 68
        },
        "outputId": "b0643070-800b-4421-d5c9-c7e9ba033c71"
      },
      "source": [
        "model.predict_proba(np.expand_dims(test_digits_sc[0],axis=0))"
      ],
      "execution_count": 24,
      "outputs": [
        {
          "output_type": "execute_result",
          "data": {
            "text/plain": [
              "array([[4.9043390e-08, 2.5800846e-05, 3.1680636e-05, 6.9812423e-04,\n",
              "        1.4493833e-07, 6.0226364e-07, 3.3935579e-10, 9.9920899e-01,\n",
              "        1.6592344e-06, 3.2890948e-05]], dtype=float32)"
            ]
          },
          "metadata": {
            "tags": []
          },
          "execution_count": 24
        }
      ]
    },
    {
      "cell_type": "code",
      "metadata": {
        "id": "l4dyzUU2-wRk",
        "colab_type": "code",
        "colab": {
          "base_uri": "https://localhost:8080/",
          "height": 289
        },
        "outputId": "dc069281-2dc4-4ffe-dc88-c1194fa1a0b4"
      },
      "source": [
        "history.history"
      ],
      "execution_count": 25,
      "outputs": [
        {
          "output_type": "execute_result",
          "data": {
            "text/plain": [
              "{'accuracy': [0.92422223, 0.9662037, 0.97524077, 0.9807037, 0.9837963],\n",
              " 'loss': [0.24969476152045858,\n",
              "  0.11188658725497899,\n",
              "  0.08053271338678207,\n",
              "  0.06294501732753728,\n",
              "  0.05319290622034869],\n",
              " 'val_accuracy': [0.9610000252723694,\n",
              "  0.9620000123977661,\n",
              "  0.9704999923706055,\n",
              "  0.9723333120346069,\n",
              "  0.9735000133514404],\n",
              " 'val_loss': [0.1375570111523072,\n",
              "  0.12818200017511844,\n",
              "  0.11175377818072836,\n",
              "  0.11117228539288045,\n",
              "  0.09879470913872744]}"
            ]
          },
          "metadata": {
            "tags": []
          },
          "execution_count": 25
        }
      ]
    },
    {
      "cell_type": "code",
      "metadata": {
        "id": "tiSXyC-2-zVg",
        "colab_type": "code",
        "colab": {
          "base_uri": "https://localhost:8080/",
          "height": 282
        },
        "outputId": "07db4a49-e575-4209-d8f8-c60cb5dec7c4"
      },
      "source": [
        "plt.plot(history.history['accuracy'])\n",
        "plt.plot(history.history['val_accuracy'])"
      ],
      "execution_count": 26,
      "outputs": [
        {
          "output_type": "execute_result",
          "data": {
            "text/plain": [
              "[<matplotlib.lines.Line2D at 0x7f3cff3c5ac8>]"
            ]
          },
          "metadata": {
            "tags": []
          },
          "execution_count": 26
        },
        {
          "output_type": "display_data",
          "data": {
            "image/png": "[encoded data removed]",
            "text/plain": [
              "<Figure size 432x288 with 1 Axes>"
            ]
          },
          "metadata": {
            "tags": [],
            "needs_background": "light"
          }
        }
      ]
    },
    {
      "cell_type": "code",
      "metadata": {
        "id": "bOxOtASF-1T3",
        "colab_type": "code",
        "colab": {
          "base_uri": "https://localhost:8080/",
          "height": 357
        },
        "outputId": "842e856b-7411-4cc8-989a-ec4eb80cc797"
      },
      "source": [
        "model1 = Sequential()\n",
        "# first layer we need to mention the input shape\n",
        "\n",
        "model1.add(Flatten(input_shape=(28,28)))\n",
        "## 784 pixel values as input to this Dense. 128 Neurons in the layers\n",
        "model1.add(Dense(128,activation='relu'))# 784 * 128+128\n",
        "model1.add(Dense(256,activation='relu'))# \n",
        "model1.add(Dense(64,activation='relu'))\n",
        "model1.add(Dense(256,activation='relu'))\n",
        "#Final layer\n",
        "model1.add(Dense(10,activation='sigmoid'))\n",
        "model1.summary()"
      ],
      "execution_count": 27,
      "outputs": [
        {
          "output_type": "stream",
          "text": [
            "Model: \"sequential_2\"\n",
            "_________________________________________________________________\n",
            "Layer (type)                 Output Shape              Param #   \n",
            "=================================================================\n",
            "flatten_2 (Flatten)          (None, 784)               0         \n",
            "_________________________________________________________________\n",
            "dense_6 (Dense)              (None, 128)               100480    \n",
            "_________________________________________________________________\n",
            "dense_7 (Dense)              (None, 256)               33024     \n",
            "_________________________________________________________________\n",
            "dense_8 (Dense)              (None, 64)                16448     \n",
            "_________________________________________________________________\n",
            "dense_9 (Dense)              (None, 256)               16640     \n",
            "_________________________________________________________________\n",
            "dense_10 (Dense)             (None, 10)                2570      \n",
            "=================================================================\n",
            "Total params: 169,162\n",
            "Trainable params: 169,162\n",
            "Non-trainable params: 0\n",
            "_________________________________________________________________\n"
          ],
          "name": "stdout"
        }
      ]
    },
    {
      "cell_type": "code",
      "metadata": {
        "id": "Uy1BGlWi-33m",
        "colab_type": "code",
        "colab": {}
      },
      "source": [
        "model1.compile(optimizer='adam',loss=tf.keras.losses.CategoricalCrossentropy(),metrics=['accuracy'])"
      ],
      "execution_count": 28,
      "outputs": []
    },
    {
      "cell_type": "code",
      "metadata": {
        "id": "PaEjW6cC-6cv",
        "colab_type": "code",
        "colab": {
          "base_uri": "https://localhost:8080/",
          "height": 204
        },
        "outputId": "9beb8656-dc40-4511-8335-cd4f10f59dbc"
      },
      "source": [
        "history=model1.fit(x=x_train,y=y_train,epochs=5,validation_data=(x_val,y_val),batch_size=32)\n"
      ],
      "execution_count": 29,
      "outputs": [
        {
          "output_type": "stream",
          "text": [
            "Train on 54000 samples, validate on 6000 samples\n",
            "Epoch 1/5\n",
            "54000/54000 [==============================] - 6s 120us/step - loss: 0.2605 - accuracy: 0.9222 - val_loss: 0.1408 - val_accuracy: 0.9593\n",
            "Epoch 2/5\n",
            "54000/54000 [==============================] - 6s 119us/step - loss: 0.1136 - accuracy: 0.9651 - val_loss: 0.1224 - val_accuracy: 0.9677\n",
            "Epoch 3/5\n",
            "54000/54000 [==============================] - 6s 116us/step - loss: 0.0810 - accuracy: 0.9746 - val_loss: 0.1072 - val_accuracy: 0.9708\n",
            "Epoch 4/5\n",
            "54000/54000 [==============================] - 6s 116us/step - loss: 0.0632 - accuracy: 0.9811 - val_loss: 0.0871 - val_accuracy: 0.9763\n",
            "Epoch 5/5\n",
            "54000/54000 [==============================] - 6s 116us/step - loss: 0.0525 - accuracy: 0.9838 - val_loss: 0.1059 - val_accuracy: 0.9743\n"
          ],
          "name": "stdout"
        }
      ]
    },
    {
      "cell_type": "code",
      "metadata": {
        "id": "MQ44y_uS-8nD",
        "colab_type": "code",
        "colab": {
          "base_uri": "https://localhost:8080/",
          "height": 51
        },
        "outputId": "9a5d9360-9fbe-4fda-ef80-17f68dfef987"
      },
      "source": [
        "model1.evaluate(test_digits_sc,test_labels_cat)"
      ],
      "execution_count": 30,
      "outputs": [
        {
          "output_type": "stream",
          "text": [
            "10000/10000 [==============================] - 0s 29us/step\n"
          ],
          "name": "stdout"
        },
        {
          "output_type": "execute_result",
          "data": {
            "text/plain": [
              "[0.0963582107585622, 0.9739000201225281]"
            ]
          },
          "metadata": {
            "tags": []
          },
          "execution_count": 30
        }
      ]
    },
    {
      "cell_type": "code",
      "metadata": {
        "id": "axQNe4mE_Hg1",
        "colab_type": "code",
        "colab": {
          "base_uri": "https://localhost:8080/",
          "height": 68
        },
        "outputId": "c1e557fa-b726-4ded-a4bc-1410bab4bbc7"
      },
      "source": [
        "print(test_digits_sc.shape)\n",
        "print(test_digits_sc[0].shape)\n",
        "print(np.expand_dims(test_digits_sc[0],axis=0).shape)"
      ],
      "execution_count": 31,
      "outputs": [
        {
          "output_type": "stream",
          "text": [
            "(10000, 28, 28)\n",
            "(28, 28)\n",
            "(1, 28, 28)\n"
          ],
          "name": "stdout"
        }
      ]
    },
    {
      "cell_type": "code",
      "metadata": {
        "id": "RV5EpexB_JQk",
        "colab_type": "code",
        "colab": {
          "base_uri": "https://localhost:8080/",
          "height": 68
        },
        "outputId": "9cc20f19-6914-4c29-9521-6da10e33419d"
      },
      "source": [
        "model.predict(np.expand_dims(test_digits_sc[0],axis=0))"
      ],
      "execution_count": 32,
      "outputs": [
        {
          "output_type": "execute_result",
          "data": {
            "text/plain": [
              "array([[4.9043390e-08, 2.5800846e-05, 3.1680636e-05, 6.9812423e-04,\n",
              "        1.4493833e-07, 6.0226364e-07, 3.3935579e-10, 9.9920899e-01,\n",
              "        1.6592344e-06, 3.2890948e-05]], dtype=float32)"
            ]
          },
          "metadata": {
            "tags": []
          },
          "execution_count": 32
        }
      ]
    },
    {
      "cell_type": "code",
      "metadata": {
        "id": "Zw25xHP7_K-b",
        "colab_type": "code",
        "colab": {
          "base_uri": "https://localhost:8080/",
          "height": 527
        },
        "outputId": "2f112886-fcb3-41d2-9700-0f6ff1a7ad0b"
      },
      "source": [
        "model.predict(test_digits_sc[:10])"
      ],
      "execution_count": 33,
      "outputs": [
        {
          "output_type": "execute_result",
          "data": {
            "text/plain": [
              "array([[4.9043390e-08, 2.5800820e-05, 3.1680578e-05, 6.9812388e-04,\n",
              "        1.4493818e-07, 6.0226364e-07, 3.3935452e-10, 9.9920899e-01,\n",
              "        1.6592312e-06, 3.2890919e-05],\n",
              "       [3.1484697e-09, 5.5573960e-06, 9.9999416e-01, 2.3202180e-08,\n",
              "        4.5771686e-10, 2.5651897e-10, 7.0335723e-08, 2.9702925e-09,\n",
              "        5.9636591e-08, 4.6518670e-13],\n",
              "       [1.8852387e-07, 9.9977785e-01, 7.3138217e-06, 5.4397060e-07,\n",
              "        2.0894437e-05, 1.4819434e-06, 7.1814084e-06, 2.7940441e-05,\n",
              "        1.5412169e-04, 2.5319343e-06],\n",
              "       [9.9877924e-01, 6.0002517e-06, 1.9897183e-04, 4.8054986e-05,\n",
              "        3.0983665e-05, 7.0027229e-05, 5.6714733e-04, 4.7486092e-06,\n",
              "        2.8774413e-05, 2.6605171e-04],\n",
              "       [2.7227425e-06, 4.8576708e-06, 1.0404176e-05, 1.2008526e-07,\n",
              "        9.9588901e-01, 4.4312305e-06, 3.7252050e-06, 2.1438262e-05,\n",
              "        1.9071849e-04, 3.8725573e-03],\n",
              "       [2.4239116e-08, 9.9993050e-01, 6.1451482e-07, 6.3238055e-08,\n",
              "        6.5889567e-06, 4.7245280e-08, 3.1932882e-07, 1.3737883e-05,\n",
              "        4.7421127e-05, 7.5205662e-07],\n",
              "       [7.5857956e-06, 6.6092114e-05, 3.6335954e-05, 1.1461163e-06,\n",
              "        9.8397183e-01, 5.2163094e-05, 2.7427555e-05, 2.3039768e-04,\n",
              "        6.3760919e-03, 9.2308782e-03],\n",
              "       [9.2264483e-05, 2.3220065e-05, 8.1058519e-05, 3.2180215e-03,\n",
              "        1.8164490e-03, 1.9188644e-04, 7.7639152e-07, 2.1562031e-03,\n",
              "        5.3493265e-04, 9.9188519e-01],\n",
              "       [2.1101646e-07, 3.0409460e-08, 6.4158876e-08, 1.5974925e-05,\n",
              "        4.3627221e-08, 9.8628342e-01, 1.3080532e-02, 5.7845340e-11,\n",
              "        5.9696950e-04, 2.2791897e-05],\n",
              "       [1.8648912e-08, 6.1998385e-08, 6.4076784e-09, 1.0226096e-07,\n",
              "        1.8372906e-04, 4.5666093e-09, 9.9308105e-12, 2.5774219e-05,\n",
              "        5.9945199e-07, 9.9978977e-01]], dtype=float32)"
            ]
          },
          "metadata": {
            "tags": []
          },
          "execution_count": 33
        }
      ]
    },
    {
      "cell_type": "code",
      "metadata": {
        "id": "eci78LLC_NYX",
        "colab_type": "code",
        "colab": {
          "base_uri": "https://localhost:8080/",
          "height": 34
        },
        "outputId": "01ad4d70-c5c2-4d66-b08e-76ac466955e9"
      },
      "source": [
        "model.predict_classes(np.expand_dims(test_digits_sc[0],axis=0))"
      ],
      "execution_count": 34,
      "outputs": [
        {
          "output_type": "execute_result",
          "data": {
            "text/plain": [
              "array([7])"
            ]
          },
          "metadata": {
            "tags": []
          },
          "execution_count": 34
        }
      ]
    },
    {
      "cell_type": "code",
      "metadata": {
        "id": "w7d2Wi6O_PSP",
        "colab_type": "code",
        "colab": {
          "base_uri": "https://localhost:8080/",
          "height": 68
        },
        "outputId": "d29d1be1-b964-46e1-eb24-a5f4b543c3b2"
      },
      "source": [
        "model.predict_proba(np.expand_dims(test_digits_sc[0],axis=0))"
      ],
      "execution_count": 35,
      "outputs": [
        {
          "output_type": "execute_result",
          "data": {
            "text/plain": [
              "array([[4.9043390e-08, 2.5800846e-05, 3.1680636e-05, 6.9812423e-04,\n",
              "        1.4493833e-07, 6.0226364e-07, 3.3935579e-10, 9.9920899e-01,\n",
              "        1.6592344e-06, 3.2890948e-05]], dtype=float32)"
            ]
          },
          "metadata": {
            "tags": []
          },
          "execution_count": 35
        }
      ]
    },
    {
      "cell_type": "code",
      "metadata": {
        "id": "lU3YTMcx_RFS",
        "colab_type": "code",
        "colab": {
          "base_uri": "https://localhost:8080/",
          "height": 289
        },
        "outputId": "50599214-76a9-4315-d283-560a7e77cea0"
      },
      "source": [
        "history.history"
      ],
      "execution_count": 36,
      "outputs": [
        {
          "output_type": "execute_result",
          "data": {
            "text/plain": [
              "{'accuracy': [0.9222222, 0.9650926, 0.9746111, 0.9811111, 0.98377776],\n",
              " 'loss': [0.2605227949304713,\n",
              "  0.11361272540419466,\n",
              "  0.08099135366944527,\n",
              "  0.06323173592556958,\n",
              "  0.05249371395367457],\n",
              " 'val_accuracy': [0.9593333601951599,\n",
              "  0.9676666855812073,\n",
              "  0.9708333611488342,\n",
              "  0.9763333201408386,\n",
              "  0.9743333458900452],\n",
              " 'val_loss': [0.1407896913215518,\n",
              "  0.122365294209371,\n",
              "  0.10718568024411798,\n",
              "  0.08713214720785618,\n",
              "  0.10593903308020283]}"
            ]
          },
          "metadata": {
            "tags": []
          },
          "execution_count": 36
        }
      ]
    },
    {
      "cell_type": "code",
      "metadata": {
        "id": "REuZ6cHe_S9j",
        "colab_type": "code",
        "colab": {
          "base_uri": "https://localhost:8080/",
          "height": 282
        },
        "outputId": "b79addfd-9d2c-4f21-e6bb-bcfd413f1755"
      },
      "source": [
        "plt.plot(history.history['accuracy'])\n",
        "plt.plot(history.history['val_accuracy'])"
      ],
      "execution_count": 37,
      "outputs": [
        {
          "output_type": "execute_result",
          "data": {
            "text/plain": [
              "[<matplotlib.lines.Line2D at 0x7f3cfe4b66a0>]"
            ]
          },
          "metadata": {
            "tags": []
          },
          "execution_count": 37
        },
        {
          "output_type": "display_data",
          "data": {
            "image/png": "[encoded data removed]",
            "text/plain": [
              "<Figure size 432x288 with 1 Axes>"
            ]
          },
          "metadata": {
            "tags": [],
            "needs_background": "light"
          }
        }
      ]
    },
    {
      "cell_type": "code",
      "metadata": {
        "id": "XljEdfHD_VH0",
        "colab_type": "code",
        "colab": {}
      },
      "source": [
        ""
      ],
      "execution_count": null,
      "outputs": []
    }
  ]
}