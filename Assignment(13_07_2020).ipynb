{
  "nbformat": 4,
  "nbformat_minor": 0,
  "metadata": {
    "kernelspec": {
      "display_name": "Python 3",
      "language": "python",
      "name": "python3"
    },
    "language_info": {
      "codemirror_mode": {
        "name": "ipython",
        "version": 3
      },
      "file_extension": ".py",
      "mimetype": "text/x-python",
      "name": "python",
      "nbconvert_exporter": "python",
      "pygments_lexer": "ipython3",
      "version": "3.7.4"
    },
    "colab": {
      "name": "Assignment(13.07.2020).ipynb",
      "provenance": []
    }
  },
  "cells": [
    {
      "cell_type": "markdown",
      "metadata": {
        "id": "znFvkhL9jbkm",
        "colab_type": "text"
      },
      "source": [
        "# CSE-221710309048-Pranav Sundaresan Babu"
      ]
    },
    {
      "cell_type": "markdown",
      "metadata": {
        "id": "KdxOLqZ-jbkq",
        "colab_type": "text"
      },
      "source": [
        "### 1.What is transfer learning"
      ]
    },
    {
      "cell_type": "markdown",
      "metadata": {
        "id": "rM88Uekyjbkt",
        "colab_type": "text"
      },
      "source": [
        "- Transfer learning is a machine learning method where a model developed for a task is reused as the starting point for a model on a second task.\n",
        "- It is a popular approach in deep learning where pre-trained models are used as the starting point on computer vision and natural language processing tasks given the vast compute and time resources required to develop neural network models on these problems and from the huge jumps in skill that they provide on related problems.\n",
        "- Transfer learning make use of `mthe knowledge gained while solving one problem and applying it to a different but related problem.\n",
        "- For example, knowledge gained while learning to recognize cars can be used to some extent to recognize trucks.\n"
      ]
    },
    {
      "cell_type": "markdown",
      "metadata": {
        "id": "T2ExLKYsjbkv",
        "colab_type": "text"
      },
      "source": [
        "### 2.What is a pretrained model?"
      ]
    },
    {
      "cell_type": "markdown",
      "metadata": {
        "id": "xlfAQ4RXjbky",
        "colab_type": "text"
      },
      "source": [
        "- a pre-trained model is a model created by some one else to solve a similar problem. \n",
        "- Instead of building a model from scratch to solve a similar problem, you use the model trained on other problem as a starting point.\n",
        "- A pre-trained model may not be 100% accurate in your application, but it saves huge efforts required to re-invent the wheel.\n",
        "- By using pre-trained models which have been previously trained on large datasets, we can directly use the weights and architecture obtained and apply the learning on our problem statement. \n",
        "   "
      ]
    },
    {
      "cell_type": "markdown",
      "metadata": {
        "id": "Snnj-aC2jbk0",
        "colab_type": "text"
      },
      "source": [
        "###  3.What is imagenet database? How many images and classes are there in that data?"
      ]
    },
    {
      "cell_type": "markdown",
      "metadata": {
        "id": "cygdtDwFjbk5",
        "colab_type": "text"
      },
      "source": [
        "- ImageNet. The ImageNet project is a large visual database designed for use in visual object recognition software research.\n",
        "- More than 14 million images have been hand-annotated by the project to indicate what objects are pictured and in at least one million of the images, bounding boxes are also provided.\n",
        "-  The Tiny ImageNet dataset has 100,000 images across 200 classes. Each class has 500 training images, 50 validation images, and 50 test images.\n"
      ]
    },
    {
      "cell_type": "markdown",
      "metadata": {
        "id": "vTuMpOhXjbk9",
        "colab_type": "text"
      },
      "source": [
        "### 4.What are the different pretrained models available on imagenet?"
      ]
    },
    {
      "cell_type": "markdown",
      "metadata": {
        "id": "EN_33g3QjblA",
        "colab_type": "text"
      },
      "source": [
        "- There are many models such as AlexNet, VGGNet, Inception, ResNet, Xception and many more which we can choose from, for our own task.\n",
        "-  Apart from the ILSVRC winners, many research groups also share their models which they have trained for similar tasks, e.g, MobileNet, SqueezeNet etc.\n",
        "- VGG16,\n",
        "- InceptionV3,\n",
        "- ResNet,\n",
        "- MobileNet,\n",
        "- Xception,\n",
        "- InceptionResNetV2\n"
      ]
    },
    {
      "cell_type": "code",
      "metadata": {
        "id": "NmWCqtpujblC",
        "colab_type": "code",
        "colab": {}
      },
      "source": [
        ""
      ],
      "execution_count": null,
      "outputs": []
    }
  ]
}